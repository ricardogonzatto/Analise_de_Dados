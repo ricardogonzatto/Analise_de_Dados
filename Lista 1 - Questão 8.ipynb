{
 "cells": [
  {
   "cell_type": "code",
   "execution_count": 2,
   "id": "f957a93e",
   "metadata": {},
   "outputs": [],
   "source": [
    "import numpy as np\n",
    "import matplotlib.pyplot as plt\n",
    "import scipy\n",
    "import scipy.special\n",
    "import math as mt"
   ]
  },
  {
   "cell_type": "code",
   "execution_count": 4,
   "id": "6b04ecfe",
   "metadata": {},
   "outputs": [
    {
     "name": "stdout",
     "output_type": "stream",
     "text": [
      "n = 0 , sigma = 0.5421666382283857\n",
      "n = 1 , sigma = 0.9560630663765926\n",
      "n = 2 , sigma = 0.9991161736930649\n"
     ]
    }
   ],
   "source": [
    "rho = 0.6\n",
    "denominador = (1-(rho**2))\n",
    "n = [1/denominador, 2/denominador, 3/denominador]\n",
    "for i in range (np.size(n)):\n",
    "    arg = -((n[i]**2) * (1 - (rho**2))) / 2\n",
    "    sigma = (1 - np.exp(arg))\n",
    "    print(f'n = {i} , sigma = {sigma}')"
   ]
  }
 ],
 "metadata": {
  "kernelspec": {
   "display_name": "Python 3",
   "language": "python",
   "name": "python3"
  },
  "language_info": {
   "codemirror_mode": {
    "name": "ipython",
    "version": 3
   },
   "file_extension": ".py",
   "mimetype": "text/x-python",
   "name": "python",
   "nbconvert_exporter": "python",
   "pygments_lexer": "ipython3",
   "version": "3.8.8"
  }
 },
 "nbformat": 4,
 "nbformat_minor": 5
}
