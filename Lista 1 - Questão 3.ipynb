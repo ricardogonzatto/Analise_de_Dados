{
 "cells": [
  {
   "cell_type": "code",
   "execution_count": 4,
   "id": "0c298576",
   "metadata": {},
   "outputs": [],
   "source": [
    "import numpy as np\n",
    "import matplotlib.pyplot as plt\n",
    "import scipy\n",
    "import scipy.special\n",
    "import math as mt\n",
    "import random as rd"
   ]
  },
  {
   "cell_type": "code",
   "execution_count": 5,
   "id": "0e43858e",
   "metadata": {},
   "outputs": [],
   "source": [
    "def terceira_funcao (x, x0, sigma):\n",
    "    numerador = ((np.exp((-(x-x0)**2)/(2*(sigma**2)))/((np.sqrt(2*np.pi))*sigma))-(np.exp((-(x+x0)**2)/(2*(sigma**2)))/((np.sqrt(2*np.pi))*sigma)))\n",
    "    denominador = mt.erf(x0/((np.sqrt(2))*sigma))\n",
    "    return numerador / denominador\n"
   ]
  },
  {
   "cell_type": "code",
   "execution_count": 6,
   "id": "85c0086b",
   "metadata": {},
   "outputs": [],
   "source": [
    "def media (pontos):\n",
    "    return np.sum(pontos)/(np.size(pontos))\n",
    "\n",
    "def sigma (pontos, media):\n",
    "    N = np.size(pontos)\n",
    "    sigma_soma = [(i - media)**2 / N for i in pontos]\n",
    "    return np.sum(sigma_soma)\n",
    "    \n",
    "def skew (x, media, sigma):\n",
    "    soma = []\n",
    "    for i in range (np.size(x)):\n",
    "        soma.append(((x[i] - media)**3)/(np.size(x)*sigma**3))\n",
    "    return np.sum(soma)\n",
    "\n",
    "def curtosis (x, media, sigma):\n",
    "    soma = []\n",
    "    for i in range (np.size(x)):\n",
    "        soma.append(((x[i] - media)**4)/(np.size(x)*sigma**4))\n",
    "    return np.sum(soma) - 3"
   ]
  },
  {
   "cell_type": "markdown",
   "id": "2ff74307",
   "metadata": {},
   "source": [
    "Devido a problemas com o domínio do sample, não consegui gerar uma distribuição para a terceira função. Devido a isso fiz o calculo com a distribuição gaussiana"
   ]
  },
  {
   "cell_type": "code",
   "execution_count": 7,
   "id": "9684200d",
   "metadata": {},
   "outputs": [
    {
     "name": "stdout",
     "output_type": "stream",
     "text": [
      "N = 10 -- Skew: 1.7542272038937745 -- Cursosis: 0.5943603665404975\n",
      "N = 100 -- Skew: -0.2159343118458309 -- Cursosis: 1.2016146663679441\n",
      "N = 1000 -- Skew: -0.05006325049864635 -- Cursosis: 0.1709994380669304\n",
      "N = 10000 -- Skew: -0.010740003928737096 -- Cursosis: 0.0006386012655132944\n"
     ]
    }
   ],
   "source": [
    "N = [10, 100, 1000, 10000]\n",
    "for i in range (0, np.size(N)):\n",
    "    gauss = np.random.normal(0,1,N[i])\n",
    "    print(f'N = {N[i]} -- Skew: {skew(gauss,0,1)} -- Cursosis: {curtosis(gauss, 0,1)}')"
   ]
  }
 ],
 "metadata": {
  "kernelspec": {
   "display_name": "Python 3",
   "language": "python",
   "name": "python3"
  },
  "language_info": {
   "codemirror_mode": {
    "name": "ipython",
    "version": 3
   },
   "file_extension": ".py",
   "mimetype": "text/x-python",
   "name": "python",
   "nbconvert_exporter": "python",
   "pygments_lexer": "ipython3",
   "version": "3.8.8"
  }
 },
 "nbformat": 4,
 "nbformat_minor": 5
}
