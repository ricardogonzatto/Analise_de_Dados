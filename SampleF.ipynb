{
 "cells": [
  {
   "cell_type": "code",
   "execution_count": 12,
   "id": "5bd39750",
   "metadata": {},
   "outputs": [],
   "source": [
    "import numpy as np\n",
    "import matplotlib.pyplot as plt\n",
    "import scipy\n",
    "import scipy.special\n",
    "import math as mt\n",
    "from scipy.interpolate import interp1d"
   ]
  },
  {
   "cell_type": "code",
   "execution_count": 2,
   "id": "275d396e",
   "metadata": {},
   "outputs": [],
   "source": [
    "interv = 6\n",
    "n= 1000\n",
    "class Funcoes:\n",
    "#    def __init__(self,n):\n",
    "#        self.n = n\n",
    "\n",
    "    def uniform (y):\n",
    "        x = np.linspace(-interv, interv, num=n)\n",
    "        y = np.linspace(y,y, num=n)\n",
    "        return (x,y)\n",
    "    \n",
    "    def gauss (𝜎, 𝜇):\n",
    "        x = np.linspace(-interv, interv, num=n)\n",
    "        y = ((1/(𝜎*np.sqrt(2*np.pi)))*np.exp(-(((x-𝜇)**2)/(2*𝜎**2))))\n",
    "        return (x,y)\n",
    "\n",
    "    def exp ():\n",
    "        x = np.linspace(-interv, interv, num=n)\n",
    "        y = np.exp(x)\n",
    "        return (x,y) \n",
    "    \n",
    "    def poisson (𝜆): \n",
    "        n = 100\n",
    "        x = np.linspace(0, 30, num=n)\n",
    "        y = (np.exp(-𝜆)) * ((np.power(𝜆,x)/ scipy.special.factorial(x)))\n",
    "        return (x, y)"
   ]
  },
  {
   "cell_type": "code",
   "execution_count": 17,
   "id": "128515be",
   "metadata": {},
   "outputs": [
    {
     "data": {
      "text/plain": [
       "[<matplotlib.lines.Line2D at 0x7fc60b040cd0>]"
      ]
     },
     "execution_count": 17,
     "metadata": {},
     "output_type": "execute_result"
    },
    {
     "data": {
      "image/png": "[encoded data removed]",
      "text/plain": [
       "<Figure size 432x288 with 1 Axes>"
      ]
     },
     "metadata": {
      "needs_background": "light"
     },
     "output_type": "display_data"
    }
   ],
   "source": [
    "g = Funcoes.gauss(1,0)\n",
    "#plt.plot(g[0],g[1])\n",
    "#y = Funcoes.gauss(1,0)\n",
    "#plt.plot(x,y)\n",
    "\n",
    "t = interp1d(g[0],g[1])\n",
    "#f = np.cumsum(g[1])\n",
    "\n",
    "#plt.plot(g[0],f)\n",
    "plt.plot(g[0],t(g[0]))"
   ]
  },
  {
   "cell_type": "code",
   "execution_count": 31,
   "id": "7c3877fd",
   "metadata": {},
   "outputs": [
    {
     "data": {
      "text/plain": [
       "(array([111.,  78.,  79., 114., 127., 161.,  94., 121.,  81.,  34.]),\n",
       " array([0.06573074, 0.15849521, 0.25125969, 0.34402416, 0.43678863,\n",
       "        0.5295531 , 0.62231757, 0.71508204, 0.80784651, 0.90061099,\n",
       "        0.99337546]),\n",
       " <BarContainer object of 10 artists>)"
      ]
     },
     "execution_count": 31,
     "metadata": {},
     "output_type": "execute_result"
    },
    {
     "data": {
      "image/png": "[encoded data removed]",
      "text/plain": [
       "<Figure size 432x288 with 1 Axes>"
      ]
     },
     "metadata": {
      "needs_background": "light"
     },
     "output_type": "display_data"
    }
   ],
   "source": [
    "g = Funcoes.gauss(1,0)\n",
    "t = np.linspace(-5,5,1000)\n",
    "y = np.cumsum(g[1])\n",
    "x = np.random.uniform (0,1, 1000)\n",
    "z = interp1d(y,x)\n",
    "plt.hist(z(x))"
   ]
  },
  {
   "cell_type": "code",
   "execution_count": 3,
   "id": "c7fd67e0",
   "metadata": {},
   "outputs": [],
   "source": [
    "def interpolation(t,y,x):\n",
    "    coef = []\n",
    "    \n",
    "    for i in range(np.size(x)-1):\n",
    "        j = i + 1   \n",
    "        aa = (y[i+1]-y[i])/(x[i+1]- x[i])\n",
    "        bb = y[i] - aa*x[i]\n",
    "        coef.append([aa,bb])\n",
    "    print(np.size(coef[0]))\n",
    "    q = []\n",
    "    for i in range (np.size(t)):\n",
    "        for j in range (np.size(x)-1):\n",
    "            if x[j] < t [i] and  t[i] < x[j+1]:\n",
    "                qq = (coef[j][0]) * t[i] + (coef[j][1])\n",
    "                q.append(qq)\n",
    "    return (q)"
   ]
  },
  {
   "cell_type": "code",
   "execution_count": null,
   "id": "49aa5042",
   "metadata": {},
   "outputs": [],
   "source": [
    "t = np.linspace ((-interv +1), (interv -1), n)\n",
    "#t = np.arange(n-1)\n",
    "\n",
    "r = interpolation(t, g[1], g[0])\n",
    "\n",
    "#r.append(r[-1])\n",
    "plt.plot(t, r)\n",
    "#plt.plot(g[0],g[1])\n",
    "np.size(r)"
   ]
  },
  {
   "cell_type": "code",
   "execution_count": 39,
   "id": "0acff68e",
   "metadata": {},
   "outputs": [],
   "source": [
    "z = np.linspace ((-interv +1), (interv -1), n)\n",
    "l=100\n",
    "\n",
    "def somarmn (z,y,x):\n",
    "    s = np.size(z)\n",
    "    v = interpolation(x,y,z)\n",
    "    deltax = ((z[s-1])-z[0])/s\n",
    "    b = []\n",
    "    bb = 0\n",
    "    for i in range (s): #### retirei o l-1\n",
    "        bb += y[i]*deltax\n",
    "        b.append(bb)\n",
    "    return (b)\n",
    "\n"
   ]
  },
  {
   "cell_type": "code",
   "execution_count": null,
   "id": "f541e2a5",
   "metadata": {},
   "outputs": [],
   "source": [
    "ff = somarmn (z, g[1], g[0])\n",
    "\n",
    "\n",
    "plt.plot(g[0], ff)\n",
    "np.size(ff)"
   ]
  },
  {
   "cell_type": "code",
   "execution_count": 8,
   "id": "c7fdb202",
   "metadata": {},
   "outputs": [],
   "source": [
    "\n",
    "def random ():\n",
    "    ttt = np.linspace(0,1,n)\n",
    "    t=[]\n",
    "    for i in range(np.size(ttt)):\n",
    "        mmm = np.random.choice(ttt)\n",
    "        t.append(mmm)\n",
    "    return t\n",
    "\n"
   ]
  },
  {
   "cell_type": "code",
   "execution_count": null,
   "id": "9cbc8ee1",
   "metadata": {},
   "outputs": [],
   "source": [
    "b = random ()\n",
    "ii = interpolation (b, g[0], ff)\n",
    "\n",
    "\n",
    "#ww = np.random.normal(0, 1, n)\n",
    "\n",
    "#plt.hist(ii)\n",
    " #z = random()\n",
    "plt.hist(b)"
   ]
  },
  {
   "cell_type": "code",
   "execution_count": 40,
   "id": "8dc62f12",
   "metadata": {},
   "outputs": [],
   "source": [
    "class Sample:\n",
    "    \n",
    "    def gaussian (𝜎, 𝜇):\n",
    "        y = Funcoes.gauss(𝜎, 𝜇)\n",
    "        t = np.linspace ((-interv +1), (interv -1), n)\n",
    "#        inter = interpolation (t, y[1], y[0])  \n",
    "        cumulativa = somarmn(t, y[1], y[0])\n",
    "        unif = random ()\n",
    "        f = interpolation(unif, y[0], cumulativa)\n",
    "        return (f)\n",
    "     \n",
    "    def uniforme ():\n",
    "        y = Funcoes.uniform (2)\n",
    "        t = np.linspace ((-interv +1), (interv -1), n)\n",
    "        cumulativa = somarmn(t, y[1], y[0])\n",
    "        unif = random ()\n",
    "        f = interpolation(unif, y[0], cumulativa)\n",
    "        return (f)\n",
    "    \n",
    "    def exp ():\n",
    "        y = Funcoes.exp()\n",
    "        t = np.linspace ((-interv +1), (interv -1), n)\n",
    "        cumulativa = somarmn(t, y[1], y[0])\n",
    "        unif = random ()\n",
    "        f = interpolation(unif, y[0], cumulativa)\n",
    "        return (f)\n",
    "    \n",
    "    def poisson (𝜆):\n",
    "        y = Funcoes.poisson(𝜆)\n",
    "        t = np.linspace (0, 29.9, 100)\n",
    "        cumulativa = somarmn(t, y[1], y[0])\n",
    "        unif = random ()\n",
    "        f = interpolation(unif, y[0], cumulativa)\n",
    "        return (f)"
   ]
  },
  {
   "cell_type": "code",
   "execution_count": 44,
   "id": "a6272df5",
   "metadata": {},
   "outputs": [
    {
     "name": "stdout",
     "output_type": "stream",
     "text": [
      "2\n",
      "2\n"
     ]
    },
    {
     "name": "stderr",
     "output_type": "stream",
     "text": [
      "<ipython-input-3-cee5f7cc3b9a>:6: RuntimeWarning: divide by zero encountered in double_scalars\n",
      "  aa = (y[i+1]-y[i])/(x[i+1]- x[i])\n"
     ]
    },
    {
     "data": {
      "text/plain": [
       "979"
      ]
     },
     "execution_count": 44,
     "metadata": {},
     "output_type": "execute_result"
    },
    {
     "data": {
      "image/png": "[encoded data removed]",
      "text/plain": [
       "<Figure size 432x288 with 1 Axes>"
      ]
     },
     "metadata": {
      "needs_background": "light"
     },
     "output_type": "display_data"
    }
   ],
   "source": [
    "f = Sample.poisson(4)\n",
    "plt.hist(f)\n",
    "np.size(f)\n",
    "#plt.plot(f[0],f[1])\n"
   ]
  }
 ],
 "metadata": {
  "kernelspec": {
   "display_name": "Python 3",
   "language": "python",
   "name": "python3"
  },
  "language_info": {
   "codemirror_mode": {
    "name": "ipython",
    "version": 3
   },
   "file_extension": ".py",
   "mimetype": "text/x-python",
   "name": "python",
   "nbconvert_exporter": "python",
   "pygments_lexer": "ipython3",
   "version": "3.8.8"
  }
 },
 "nbformat": 4,
 "nbformat_minor": 5
}
