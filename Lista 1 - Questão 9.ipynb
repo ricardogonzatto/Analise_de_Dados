{
 "cells": [
  {
   "cell_type": "code",
   "execution_count": 48,
   "id": "cf8b5ae9",
   "metadata": {},
   "outputs": [],
   "source": [
    "import numpy as np\n",
    "import matplotlib.pyplot as plt\n",
    "import scipy\n",
    "import scipy.special\n",
    "import math as mt\n",
    "from statistics import mode"
   ]
  },
  {
   "cell_type": "markdown",
   "id": "ccb25c8d",
   "metadata": {},
   "source": [
    "# Definindos os Estimadores"
   ]
  },
  {
   "cell_type": "code",
   "execution_count": 63,
   "id": "59b9d764",
   "metadata": {},
   "outputs": [],
   "source": [
    "def estimador1 (pontos):\n",
    "    return np.sum(pontos)/(np.size(pontos))\n",
    "\n",
    "def estimador2 (pontos):\n",
    "    soma = 0\n",
    "    for i in range (0,10):\n",
    "        soma += pontos[i]\n",
    "    return soma/10\n",
    "\n",
    "def estimador3 (pontos):\n",
    "    return np.sum(pontos)/(np.size(pontos) - 1)\n",
    "\n",
    "def estimador4 (pontos):\n",
    "    return 1.8\n",
    "\n",
    "def estimador5 (pontos):\n",
    "    produto = np.prod(pontos)\n",
    "#    coef_raiz = 1 / (np.size(pontos))\n",
    "    coef_raiz = 1 / len(pontos)\n",
    "    return produto ** coef_raiz\n",
    "\n",
    "def estimador6 (pontos):\n",
    "    return mode(pontos)\n",
    "\n",
    "def estimador7 (pontos):\n",
    "    value_max = max(pontos)\n",
    "    value_min = min(pontos)\n",
    "    return ((value_max + value_min)/2)\n",
    "\n",
    "def estimador8 (pontos):\n",
    "    N = np.size (pontos)\n",
    "    soma = 0\n",
    "    if N % 2 == 0:\n",
    "        for i in range (0,N//2):\n",
    "            soma += pontos[2*i]\n",
    "        media = soma/(N/2)\n",
    "    else:\n",
    "        for i in range (0,(N-1)//2):\n",
    "            soma += pontos[2*i]\n",
    "        media = soma/((N-1)/2)\n",
    "    return media\n",
    "\n"
   ]
  },
  {
   "cell_type": "markdown",
   "id": "bca6b42a",
   "metadata": {},
   "source": [
    "# Gerando os Pontos"
   ]
  },
  {
   "cell_type": "code",
   "execution_count": 64,
   "id": "7b3575a3",
   "metadata": {},
   "outputs": [],
   "source": [
    "uniform_points = np.random.uniform(0,1,1000)\n",
    "gaussian_points = np.random.normal(0,1, 1000)"
   ]
  },
  {
   "cell_type": "markdown",
   "id": "70c494f9",
   "metadata": {},
   "source": [
    "# Aplicando os Estimadores"
   ]
  },
  {
   "cell_type": "code",
   "execution_count": 65,
   "id": "06899b20",
   "metadata": {},
   "outputs": [
    {
     "name": "stdout",
     "output_type": "stream",
     "text": [
      "Distribuição Gaussiana \n",
      "\n",
      "valor:0.016512687411969307\n",
      "valor:0.025164091397718115\n",
      "valor:0.016529216628597906\n",
      "valor:1.8\n",
      "valor:0.5478183818341309\n",
      "valor:2.0039881806775868\n",
      "valor:0.2642318701738937\n",
      "valor:0.036406908675482096 \n",
      "\n",
      "Distribuição Uniforme \n",
      "\n",
      "valor:0.5042931281646277\n",
      "valor:0.524188540774611\n",
      "valor:0.5047979260907184\n",
      "valor:1.8\n",
      "valor:0.0\n",
      "valor:0.3922591080852419\n",
      "valor:0.5005368343063943\n",
      "valor:0.5205312651783051 \n",
      "\n"
     ]
    }
   ],
   "source": [
    "print('Distribuição Gaussiana \\n')\n",
    "print(f'valor:{estimador1(gaussian_points)}') \n",
    "print(f'valor:{estimador2(gaussian_points)}')\n",
    "print(f'valor:{estimador3(gaussian_points)}')\n",
    "print(f'valor:{estimador4(gaussian_points)}') \n",
    "print(f'valor:{estimador5(gaussian_points)}') \n",
    "print(f'valor:{estimador6(gaussian_points)}') \n",
    "print(f'valor:{estimador7(gaussian_points)}') \n",
    "print(f'valor:{estimador8(gaussian_points)} \\n') \n",
    "\n",
    "print('Distribuição Uniforme \\n')\n",
    "print(f'valor:{estimador1(uniform_points)}') \n",
    "print(f'valor:{estimador2(uniform_points)}')\n",
    "print(f'valor:{estimador3(uniform_points)}')\n",
    "print(f'valor:{estimador4(uniform_points)}') \n",
    "print(f'valor:{estimador5(uniform_points)}') \n",
    "print(f'valor:{estimador6(uniform_points)}') \n",
    "print(f'valor:{estimador7(uniform_points)}') \n",
    "print(f'valor:{estimador8(uniform_points)} \\n') "
   ]
  },
  {
   "cell_type": "markdown",
   "id": "fd258189",
   "metadata": {},
   "source": [
    "# Avaliando a Consistência"
   ]
  },
  {
   "cell_type": "code",
   "execution_count": 90,
   "id": "616eb48c",
   "metadata": {},
   "outputs": [
    {
     "name": "stdout",
     "output_type": "stream",
     "text": [
      "Distribuição Gaussiana \n",
      "\n",
      "valor: 0.002811019648700344\n",
      "valor: -0.11403310762966823\n",
      "valor: 0.0028138334821825265\n",
      "valor: 1.8\n",
      "valor: nan\n",
      "valor: 0.023949366154207598\n",
      "valor: 0.20788928063224899\n",
      "valor: -0.023722661106975736 \n",
      "\n",
      "Distribuição Uniforme \n",
      "\n",
      "valor: -0.004508488433484392\n",
      "valor: -0.025772438854191004\n",
      "valor: -0.0040125009344187945\n",
      "valor: 1.3\n",
      "valor: -0.5\n",
      "valor: -0.15976359380507743\n",
      "valor: 0.0010518571347672978\n",
      "valor: -0.015009079179673757 \n",
      "\n"
     ]
    },
    {
     "name": "stderr",
     "output_type": "stream",
     "text": [
      "<ipython-input-63-a82f483b7734>:20: RuntimeWarning: invalid value encountered in double_scalars\n",
      "  return produto ** coef_raiz\n"
     ]
    }
   ],
   "source": [
    "print('Distribuição Gaussiana \\n')\n",
    "print(f'valor: {estimador1(gaussian_points) - 0}') \n",
    "print(f'valor: {estimador2(gaussian_points) - 0}')\n",
    "print(f'valor: {estimador3(gaussian_points) - 0}')\n",
    "print(f'valor: {estimador4(gaussian_points) - 0}') \n",
    "print(f'valor: {estimador5(gaussian_points) - 0}') \n",
    "print(f'valor: {estimador6(gaussian_points) - 0}') \n",
    "print(f'valor: {estimador7(gaussian_points) - 0}') \n",
    "print(f'valor: {estimador8(gaussian_points) - 0} \\n') \n",
    "\n",
    "print('Distribuição Uniforme \\n')\n",
    "print(f'valor: {estimador1(uniform_points) - 0.5}') \n",
    "print(f'valor: {estimador2(uniform_points) - 0.5}')\n",
    "print(f'valor: {estimador3(uniform_points) - 0.5}')\n",
    "print(f'valor: {estimador4(uniform_points) - 0.5}') \n",
    "print(f'valor: {estimador5(uniform_points) - 0.5}') \n",
    "print(f'valor: {estimador6(uniform_points) - 0.5}') \n",
    "print(f'valor: {estimador7(uniform_points) - 0.5}') \n",
    "print(f'valor: {estimador8(uniform_points) - 0.5} \\n') "
   ]
  },
  {
   "cell_type": "markdown",
   "id": "31352b1a",
   "metadata": {},
   "source": [
    "Os estimadores 1, 3 e 8 são os aprensentam a melhor consistência pelos seus valores serem próximos à média"
   ]
  },
  {
   "cell_type": "markdown",
   "id": "d8dd3314",
   "metadata": {},
   "source": [
    "# Avaliando a Bias"
   ]
  },
  {
   "cell_type": "code",
   "execution_count": 89,
   "id": "6d4cfde4",
   "metadata": {},
   "outputs": [
    {
     "name": "stdout",
     "output_type": "stream",
     "text": [
      "Distribuição Uniforme \n",
      "\n",
      "valor:0.49940429198696085\n",
      "valor:0.5082652882378906\n",
      "valor:0.49990419618314397\n",
      "valor:1.8\n",
      "valor:0.0\n",
      "valor:0.5477028597791607\n",
      "valor:0.5000813085652702\n",
      "valor:0.4976433078183591 \n",
      "\n",
      "Distribuição Gaussiana \n",
      "\n",
      "valor:0.003359640153620497\n",
      "valor:0.01649154078738782\n",
      "valor:0.0033630031567772754\n",
      "valor:1.8\n",
      "valor:nan\n",
      "valor:-0.025699399928543996\n",
      "valor:-0.0036044401223101464\n",
      "valor:0.00540742244640264 \n",
      "\n"
     ]
    },
    {
     "name": "stderr",
     "output_type": "stream",
     "text": [
      "<ipython-input-63-a82f483b7734>:20: RuntimeWarning: invalid value encountered in double_scalars\n",
      "  return produto ** coef_raiz\n"
     ]
    }
   ],
   "source": [
    "#uniforme\n",
    "estimador_1 = []\n",
    "estimador_2 = []\n",
    "estimador_3 = []\n",
    "estimador_4 = []\n",
    "estimador_5 = []\n",
    "estimador_6 = []\n",
    "estimador_7 = []\n",
    "estimador_8 = []\n",
    "for i in range (0,50):\n",
    "    uniform_points = np.random.uniform(0,1,1000)\n",
    "    estimador_1.append(estimador1(uniform_points))\n",
    "    estimador_2.append(estimador2(uniform_points))\n",
    "    estimador_3.append(estimador3(uniform_points))\n",
    "    estimador_4.append(estimador4(uniform_points))\n",
    "    estimador_5.append(estimador5(uniform_points))\n",
    "    estimador_6.append(estimador6(uniform_points))\n",
    "    estimador_7.append(estimador7(uniform_points))\n",
    "    estimador_8.append(estimador8(uniform_points))\n",
    "\n",
    "print('Distribuição Uniforme \\n')\n",
    "print(f'valor:{estimador1(estimador_1)}') \n",
    "print(f'valor:{estimador1(estimador_2)}')\n",
    "print(f'valor:{estimador1(estimador_3)}')\n",
    "print(f'valor:{estimador1(estimador_4)}') \n",
    "print(f'valor:{estimador1(estimador_5)}') \n",
    "print(f'valor:{estimador1(estimador_6)}') \n",
    "print(f'valor:{estimador1(estimador_7)}') \n",
    "print(f'valor:{estimador1(estimador_8)} \\n')\n",
    "\n",
    "#print(np.size(estimador_1))\n",
    "\n",
    "#gaussiana\n",
    "estimador_1 = []\n",
    "estimador_2 = []\n",
    "estimador_3 = []\n",
    "estimador_4 = []\n",
    "estimador_5 = []\n",
    "estimador_6 = []\n",
    "estimador_7 = []\n",
    "estimador_8 = []\n",
    "for i in range (0,50):\n",
    "    gaussian_points = np.random.normal(0,1,1000)\n",
    "    estimador_1.append(estimador1(gaussian_points))\n",
    "    estimador_2.append(estimador2(gaussian_points))\n",
    "    estimador_3.append(estimador3(gaussian_points))\n",
    "    estimador_4.append(estimador4(gaussian_points))\n",
    "    estimador_5.append(estimador5(gaussian_points))\n",
    "    estimador_6.append(estimador6(gaussian_points))\n",
    "    estimador_7.append(estimador7(gaussian_points))\n",
    "    estimador_8.append(estimador8(gaussian_points))\n",
    "\n",
    "print('Distribuição Gaussiana \\n')\n",
    "print(f'valor:{estimador1(estimador_1)}') \n",
    "print(f'valor:{estimador1(estimador_2)}')\n",
    "print(f'valor:{estimador1(estimador_3)}')\n",
    "print(f'valor:{estimador1(estimador_4)}') \n",
    "print(f'valor:{estimador1(estimador_5)}') \n",
    "print(f'valor:{estimador1(estimador_6)}') \n",
    "print(f'valor:{estimador1(estimador_7)}') \n",
    "print(f'valor:{estimador1(estimador_8)} \\n')\n",
    "\n",
    "#print(np.size(estimador_1))"
   ]
  },
  {
   "cell_type": "markdown",
   "id": "29167439",
   "metadata": {},
   "source": [
    "Os estimadores 1, 3, 7 e 8 são os que aprensentam os valores mais próximos dos valores experados para as duas distribuições"
   ]
  },
  {
   "cell_type": "markdown",
   "id": "ad9842c6",
   "metadata": {},
   "source": [
    "# Avaliando a Eficiência"
   ]
  },
  {
   "cell_type": "code",
   "execution_count": 88,
   "id": "abac6315",
   "metadata": {},
   "outputs": [
    {
     "name": "stdout",
     "output_type": "stream",
     "text": [
      "Distribuição Uniforme \n",
      "\n",
      "valor:5.922608117516803e-05\n",
      "valor:0.007216154386082334\n",
      "valor:5.9344711252962776e-05\n",
      "valor:0.0\n",
      "valor:0.0\n",
      "valor:0.10447492792815478\n",
      "valor:5.749381816532321e-07\n",
      "valor:0.00011377731416612532 \n",
      "\n",
      "Distribuição Uniforme \n",
      "\n",
      "valor:0.0009317805876561559\n",
      "valor:0.08459104025296778\n",
      "valor:0.0009336469479050181\n",
      "valor:0.0\n",
      "valor:nan\n",
      "valor:1.0961644138800608\n",
      "valor:0.06874671605713456\n",
      "valor:0.0018677317346165777 \n",
      "\n"
     ]
    },
    {
     "name": "stderr",
     "output_type": "stream",
     "text": [
      "<ipython-input-63-a82f483b7734>:20: RuntimeWarning: invalid value encountered in double_scalars\n",
      "  return produto ** coef_raiz\n"
     ]
    }
   ],
   "source": [
    "def variancia (pontos, media):\n",
    "    N = np.size(pontos)\n",
    "    variancia = [(i - media)**2 / N for i in pontos]\n",
    "    return np.sum(variancia)\n",
    "\n",
    "\n",
    "\n",
    "#uniforme\n",
    "estimador_1 = []\n",
    "estimador_2 = []\n",
    "estimador_3 = []\n",
    "estimador_4 = []\n",
    "estimador_5 = []\n",
    "estimador_6 = []\n",
    "estimador_7 = []\n",
    "estimador_8 = []\n",
    "for i in range (0,50):\n",
    "    uniform_points = np.random.uniform(0,1,1000)\n",
    "    estimador_1.append(estimador1(uniform_points))\n",
    "    estimador_2.append(estimador2(uniform_points))\n",
    "    estimador_3.append(estimador3(uniform_points))\n",
    "    estimador_4.append(estimador4(uniform_points))\n",
    "    estimador_5.append(estimador5(uniform_points))\n",
    "    estimador_6.append(estimador6(uniform_points))\n",
    "    estimador_7.append(estimador7(uniform_points))\n",
    "    estimador_8.append(estimador8(uniform_points))\n",
    "\n",
    "print('Distribuição Uniforme \\n')\n",
    "print(f'valor:{variancia(estimador_1, estimador1(estimador_1))}') \n",
    "print(f'valor:{variancia(estimador_2, estimador1(estimador_2))}')\n",
    "print(f'valor:{variancia(estimador_3, estimador1(estimador_3))}')\n",
    "print(f'valor:{variancia(estimador_4, estimador1(estimador_4))}')\n",
    "print(f'valor:{variancia(estimador_5, estimador1(estimador_5))}')\n",
    "print(f'valor:{variancia(estimador_6, estimador1(estimador_6))}')\n",
    "print(f'valor:{variancia(estimador_7, estimador1(estimador_7))}')\n",
    "print(f'valor:{variancia(estimador_8, estimador1(estimador_8))} \\n')\n",
    "\n",
    "#print(np.size(estimador_1))\n",
    "\n",
    "#gaussiana\n",
    "estimador_1 = []\n",
    "estimador_2 = []\n",
    "estimador_3 = []\n",
    "estimador_4 = []\n",
    "estimador_5 = []\n",
    "estimador_6 = []\n",
    "estimador_7 = []\n",
    "estimador_8 = []\n",
    "for i in range (0,50):\n",
    "    gaussian_points = np.random.normal(0,1,1000)\n",
    "    estimador_1.append(estimador1(gaussian_points))\n",
    "    estimador_2.append(estimador2(gaussian_points))\n",
    "    estimador_3.append(estimador3(gaussian_points))\n",
    "    estimador_4.append(estimador4(gaussian_points))\n",
    "    estimador_5.append(estimador5(gaussian_points))\n",
    "    estimador_6.append(estimador6(gaussian_points))\n",
    "    estimador_7.append(estimador7(gaussian_points))\n",
    "    estimador_8.append(estimador8(gaussian_points))\n",
    "\n",
    "print('Distribuição Uniforme \\n')\n",
    "print(f'valor:{variancia(estimador_1, estimador1(estimador_1))}') \n",
    "print(f'valor:{variancia(estimador_2, estimador1(estimador_2))}')\n",
    "print(f'valor:{variancia(estimador_3, estimador1(estimador_3))}')\n",
    "print(f'valor:{variancia(estimador_4, estimador1(estimador_4))}')\n",
    "print(f'valor:{variancia(estimador_5, estimador1(estimador_5))}')\n",
    "print(f'valor:{variancia(estimador_6, estimador1(estimador_6))}')\n",
    "print(f'valor:{variancia(estimador_7, estimador1(estimador_7))}')\n",
    "print(f'valor:{variancia(estimador_8, estimador1(estimador_8))} \\n')\n",
    "\n",
    "#print(np.size(estimador_1))"
   ]
  },
  {
   "cell_type": "markdown",
   "id": "c307d4dc",
   "metadata": {},
   "source": [
    "Os estimadores 4 e 5 aparentam ser muito eficientes por não aprensentar variância, além deles o estimador 1 é o mais consistente para ambas as distribuições."
   ]
  }
 ],
 "metadata": {
  "kernelspec": {
   "display_name": "Python 3",
   "language": "python",
   "name": "python3"
  },
  "language_info": {
   "codemirror_mode": {
    "name": "ipython",
    "version": 3
   },
   "file_extension": ".py",
   "mimetype": "text/x-python",
   "name": "python",
   "nbconvert_exporter": "python",
   "pygments_lexer": "ipython3",
   "version": "3.8.8"
  }
 },
 "nbformat": 4,
 "nbformat_minor": 5
}
